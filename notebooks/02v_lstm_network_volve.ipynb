{
 "cells": [
  {
   "cell_type": "code",
   "execution_count": null,
   "id": "66cd5632-1b87-4da6-b276-6d11bed0471c",
   "metadata": {},
   "outputs": [],
   "source": [
    "%run ./01v_volve_generate_data.ipynb\n",
    "\n",
    "import tensorflow as tf\n",
    "import keras\n",
    "from keras import layers\n",
    "from keras import backend as K\n",
    "\n",
    "import scipy.stats as stats\n",
    "import math"
   ]
  },
  {
   "cell_type": "code",
   "execution_count": null,
   "id": "f0ce116f-a493-47ca-909e-f160a44d796a",
   "metadata": {},
   "outputs": [],
   "source": [
    "gpus = tf.config.experimental.list_physical_devices('GPU')\n",
    "if gpus:\n",
    "    try:\n",
    "        # Currently, memory growth needs to be the same across GPUs\n",
    "        for gpu in gpus:\n",
    "            tf.config.experimental.set_memory_growth(gpu, True)\n",
    "        logical_gpus = tf.config.experimental.list_logical_devices('GPU')\n",
    "        print(len(gpus), \"Physical GPUs,\", len(logical_gpus), \"Logical GPUs\")\n",
    "    except RuntimeError as e:\n",
    "        # Memory growth must be set before GPUs have been initialized\n",
    "        print(e)"
   ]
  },
  {
   "cell_type": "code",
   "execution_count": null,
   "id": "e3c645a5-1334-4bd1-ab67-84936f3c4143",
   "metadata": {},
   "outputs": [],
   "source": [
    "# expected input data shape: (batch_size, timesteps, data_dim)\n",
    "max_epochs = 200\n",
    "num_responses = 1\n",
    "mini_batch_size = 5\n",
    "num_features = 1\n",
    "\n",
    "num_first_hidden_unit = 60\n",
    "num_second_hidden_unit = 30\n",
    "\n",
    "lstm_net = keras.models.Sequential()\n",
    "lstm_net.add(layers.InputLayer(input_shape=(160, num_responses))) # (timesteps, data_dim)\n",
    "lstm_net.add(layers.LSTM(num_first_hidden_unit,\n",
    "                         batch_input_shape=(5, 160, num_responses),\n",
    "                         return_sequences=True))\n",
    "lstm_net.add(layers.Dropout(0.2))\n",
    "lstm_net.add(layers.LSTM(num_second_hidden_unit,\n",
    "                         return_sequences=True))\n",
    "lstm_net.add(layers.Dropout(0.2))\n",
    "lstm_net.add(layers.Dense(10))\n",
    "lstm_net.add(layers.Dense(num_responses))\n",
    "\n",
    "lstm_net.summary()"
   ]
  },
  {
   "cell_type": "code",
   "execution_count": null,
   "id": "bf8613b0-831f-4364-a7d8-21c1135f799d",
   "metadata": {
    "tags": []
   },
   "outputs": [],
   "source": [
    "def scheduler(epoch, lr):\n",
    "    if epoch % 150 == 0 and epoch != 0:\n",
    "        value = lr * tf.math.exp(-0.1)\n",
    "        K.set_value(lstm_net.optimizer.lr, value)\n",
    "        return K.get_value(lstm_net.optimizer.lr)\n",
    "    else:\n",
    "        return K.get_value(lstm_net.optimizer.lr)\n",
    "    \n",
    "lr_scheduler = keras.callbacks.LearningRateScheduler(scheduler, verbose=1)\n",
    "\n",
    "optimizer = keras.optimizers.Adam(learning_rate=0.001, clipnorm=2)\n",
    "\n",
    "metric = 'mae'\n",
    "\n",
    "lstm_net.compile(optimizer=optimizer,\n",
    "                 loss='mse',\n",
    "                 metrics=metric)\n",
    "\n",
    "history_lstm = lstm_net.fit(x_train,\n",
    "                            y_train,\n",
    "                            shuffle=False,\n",
    "                            batch_size=mini_batch_size,\n",
    "                            epochs=max_epochs,\n",
    "#                            callbacks=[lr_scheduler],\n",
    "                            validation_data=(x_valid, y_valid),\n",
    "                            validation_freq=1)"
   ]
  },
  {
   "cell_type": "code",
   "execution_count": null,
   "id": "be34127e-9d3a-48b6-8828-14776196dfa4",
   "metadata": {},
   "outputs": [],
   "source": [
    "plt.plot(history_lstm.history[metric])\n",
    "plt.show()"
   ]
  },
  {
   "cell_type": "code",
   "execution_count": null,
   "id": "12513dd2-337c-441e-9c6c-a4bb67186bd7",
   "metadata": {},
   "outputs": [],
   "source": [
    "y_predicted = lstm_net.predict(x_test, verbose=1)\n",
    "# print(np.shape(y_predicted))\n",
    "\n",
    "n = 3\n",
    "plt.figure(figsize=(20, 10))\n",
    "for i in range(1, n + 1):\n",
    "    ax = plt.subplot(2, n, i)\n",
    "    ax.set_title(\"y_validation {0}\".format(i-1))\n",
    "    plt.plot(y_test[i-1, :, 0])\n",
    "    plt.plot(y_predicted[i-1, :, 0], '--r')\n",
    "    plt.legend(['original Ip', 'predicted Ip'])\n",
    "\n",
    "#     ax = plt.subplot(2, n, i + n, sharey=ax)\n",
    "#     ax.set_title(\"y_predicted {0}\".format(i-1))\n",
    "#     plt.plot(y_predicted[i-1, :, 0])\n",
    "plt.show()"
   ]
  }
 ],
 "metadata": {
  "kernelspec": {
   "display_name": "Python 3",
   "language": "python",
   "name": "python3"
  },
  "language_info": {
   "codemirror_mode": {
    "name": "ipython",
    "version": 3
   },
   "file_extension": ".py",
   "mimetype": "text/x-python",
   "name": "python",
   "nbconvert_exporter": "python",
   "pygments_lexer": "ipython3",
   "version": "3.8.8"
  }
 },
 "nbformat": 4,
 "nbformat_minor": 5
}
