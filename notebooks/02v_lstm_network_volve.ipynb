{
 "cells": [
  {
   "cell_type": "code",
   "execution_count": null,
   "id": "66cd5632-1b87-4da6-b276-6d11bed0471c",
   "metadata": {},
   "outputs": [],
   "source": [
    "%run ./01v_volve_generate_data.ipynb\n",
    "\n",
    "import tensorflow as tf\n",
    "import keras\n",
    "from keras import layers\n",
    "from keras import backend as K\n",
    "#import src\n",
    "\n",
    "import scipy.stats as stats\n",
    "import math"
   ]
  },
  {
   "cell_type": "code",
   "execution_count": null,
   "id": "f0ce116f-a493-47ca-909e-f160a44d796a",
   "metadata": {},
   "outputs": [],
   "source": [
    "gpus = tf.config.experimental.list_physical_devices('GPU')\n",
    "if gpus:\n",
    "    try:\n",
    "        # Currently, memory growth needs to be the same across GPUs\n",
    "        for gpu in gpus:\n",
    "            tf.config.experimental.set_memory_growth(gpu, True)\n",
    "        logical_gpus = tf.config.experimental.list_logical_devices('GPU')\n",
    "        print(len(gpus), \"Physical GPUs,\", len(logical_gpus), \"Logical GPUs\")\n",
    "    except RuntimeError as e:\n",
    "        # Memory growth must be set before GPUs have been initialized\n",
    "        print(e)"
   ]
  },
  {
   "cell_type": "code",
   "execution_count": null,
   "id": "e3c645a5-1334-4bd1-ab67-84936f3c4143",
   "metadata": {},
   "outputs": [],
   "source": [
    "# expected input data shape: (batch_size, timesteps, data_dim)\n",
    "\n",
    "num_features = 1\n",
    "num_hidden_units1 = 120\n",
    "\n",
    "num_hidden_units2 = 150\n",
    "num_responses = 1\n",
    "max_epochs = 500\n",
    "mini_batch_size = 5\n",
    "\n",
    "lstm_net = keras.models.Sequential([\n",
    "    layers.Bidirectional(\n",
    "        layers.LSTM(units=num_hidden_units1, return_sequences=True\n",
    "    ), input_shape=(160,1)),\n",
    "    layers.BatchNormalization(epsilon=1e-4),\n",
    "    layers.ReLU(),\n",
    "    layers.Dense(150),\n",
    "    layers.Dense(50),\n",
    "    layers.Bidirectional(\n",
    "        layers.LSTM(units=num_hidden_units2, return_sequences=True)\n",
    "    ),\n",
    "    layers.Dense(num_responses)\n",
    "])\n",
    "\n",
    "lstm_net.summary()"
   ]
  },
  {
   "cell_type": "code",
   "execution_count": null,
   "id": "bf8613b0-831f-4364-a7d8-21c1135f799d",
   "metadata": {
    "tags": []
   },
   "outputs": [],
   "source": [
    "def scheduler(epoch, lr):\n",
    "    if epoch % 150 == 0 and epoch != 0:\n",
    "        value = lr * tf.math.exp(-0.1)\n",
    "        K.set_value(lstm_net.optimizer.lr, value)\n",
    "        return K.get_value(lstm_net.optimizer.lr)\n",
    "    else:\n",
    "        return K.get_value(lstm_net.optimizer.lr)\n",
    "    \n",
    "callback =  tf.keras.callbacks.EarlyStopping(monitor='loss', \n",
    "                                             mode='min',\n",
    "                                             restore_best_weights=True,\n",
    "                                             verbose=2,\n",
    "                                             patience=300)\n",
    "    \n",
    "lr_scheduler = keras.callbacks.LearningRateScheduler(scheduler, verbose=1)\n",
    "\n",
    "optimizer = keras.optimizers.Adam(learning_rate=0.001, clipnorm=2)\n",
    "\n",
    "loss_metrics = [\n",
    "    'mse',\n",
    "    'mae'\n",
    "]\n",
    "\n",
    "metric_funcs = [\n",
    "    tf.keras.metrics.MeanSquaredError(),\n",
    "    tf.keras.metrics.MeanAbsoluteError(),\n",
    "    tf.keras.metrics.RootMeanSquaredError()\n",
    "]\n",
    "\n",
    "lstm_net.compile(optimizer=optimizer,\n",
    "                 loss=loss_metrics,\n",
    "                 metrics=metric_funcs)\n",
    "\n",
    "history_lstm = lstm_net.fit(trainX,\n",
    "                            trainIp,\n",
    "                            shuffle=False,\n",
    "                            batch_size=mini_batch_size,\n",
    "                            epochs=max_epochs,\n",
    "             #               callbacks=[lr_scheduler],\n",
    "                            callbacks=callback,\n",
    "                            validation_data=(x_valid, y_valid),\n",
    "                            validation_freq=1)"
   ]
  },
  {
   "cell_type": "code",
   "execution_count": null,
   "id": "12513dd2-337c-441e-9c6c-a4bb67186bd7",
   "metadata": {
    "tags": []
   },
   "outputs": [],
   "source": [
    "y_predicted = lstm_net.predict(x_test, verbose=1)\n",
    "\n",
    "n = 3\n",
    "plt.figure(figsize=(20, 10))\n",
    "for i in range(1, n + 1):\n",
    "    ax = plt.subplot(2, n, i)\n",
    "    ax.set_title(\"y_validation {0}\".format(i-1))\n",
    "    plt.plot(y_test[i-1, :, 0])\n",
    "    plt.plot(y_predicted[i-1, :, 0], '--r')\n",
    "    plt.legend(['original Ip', 'predicted Ip'])\n",
    "\n",
    "#     ax = plt.subplot(2, n, i + n, sharey=ax)\n",
    "#     ax.set_title(\"y_predicted {0}\".format(i-1))\n",
    "#     plt.plot(y_predicted[i-1, :, 0])\n",
    "plt.show()"
   ]
  },
  {
   "cell_type": "code",
   "execution_count": null,
   "id": "5f3d6822-0bbb-4712-9f65-8c9be737352e",
   "metadata": {
    "tags": []
   },
   "outputs": [],
   "source": [
    "# ypredicted_f32 = tf.cast(y_predicted, dtype=tf.float32)\n",
    "# ytest_f32 = tf.cast(y_test, dtype=tf.float32)\n",
    "\n",
    "# result = tf.image.ssim(ytest_f32, ypredicted_f32, max_val=1)\n",
    "\n",
    "# print(result)\n",
    "predict_image = y_predicted.flatten()\n",
    "predict_image = (predict_image-np.min(predict_image))/(np.max(predict_image)-np.min(predict_image))\n",
    "predict_image = predict_image.reshape(y_predicted.shape)\n",
    "predict_image = (predict_image).astype('float32')\n",
    "\n",
    "target_image = y_test.flatten()\n",
    "target_image = (target_image-np.min(target_image))/(np.max(target_image)-np.min(target_image))\n",
    "target_image = target_image.reshape(y_test.shape)\n",
    "target_image = target_image.astype('float32')\n",
    "\n",
    "SSIM = tf.image.ssim(target_image, predict_image, max_val=1).numpy()\n",
    "print('SSIM: ', SSIM)\n",
    "\n",
    "fig1, axes1 = plt.subplots(nrows=1, ncols=2)\n",
    "axes1[0].imshow(predict_image)\n",
    "axes1[0].set_title(\"Predicted\")\n",
    "axes1[1].imshow(target_image)\n",
    "axes1[1].set_title(\"Target\")"
   ]
  },
  {
   "cell_type": "code",
   "execution_count": null,
   "id": "a2404143-d28b-44e5-941d-d884021c4a01",
   "metadata": {},
   "outputs": [],
   "source": []
  }
 ],
 "metadata": {
  "kernelspec": {
   "display_name": "Python 3",
   "language": "python",
   "name": "python3"
  },
  "language_info": {
   "codemirror_mode": {
    "name": "ipython",
    "version": 3
   },
   "file_extension": ".py",
   "mimetype": "text/x-python",
   "name": "python",
   "nbconvert_exporter": "python",
   "pygments_lexer": "ipython3",
   "version": "3.8.8"
  }
 },
 "nbformat": 4,
 "nbformat_minor": 5
}
