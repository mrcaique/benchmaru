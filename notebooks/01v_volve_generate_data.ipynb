{
 "cells": [
  {
   "cell_type": "code",
   "execution_count": null,
   "metadata": {
    "tags": []
   },
   "outputs": [],
   "source": [
    "\"\"\"\n",
    "    Code adapted from https://github.com/vishaldas/CNN_based_impedance_inversion\n",
    "\"\"\"\n",
    "\n",
    "%load_ext autoreload\n",
    "%autoreload 2\n",
    "\n",
    "import matplotlib.pyplot as plt\n",
    "%matplotlib inline\n",
    "# %config InlineBackend.figure_format = 'svg'\n",
    "import numpy as np\n",
    "from random import randint\n",
    "from numpy import genfromtxt"
   ]
  },
  {
   "cell_type": "code",
   "execution_count": null,
   "metadata": {},
   "outputs": [],
   "source": [
    "# Loading Impedance and seismic along well and checking if seismic using convolution matches the real seismic \n",
    "\n",
    "# Load seismic trace\n",
    "seismic_data = genfromtxt('../data/volve/seismic_trace_15_9_F-15-A.csv', delimiter=';')\n",
    "\n",
    "time_seismic = -np.round(seismic_data[:,0])\n",
    "time_seismic, unique_indices = np.unique(time_seismic, return_index=True)\n",
    "dt_seismic = time_seismic[1] - time_seismic[0]\n",
    "\n",
    "seismic_trace = seismic_data[unique_indices,1]\n",
    "Ip_trace = seismic_data[unique_indices,2]\n",
    "\n",
    "start_time = 2340.0\n",
    "end_time = 2500.0\n",
    "\n",
    "seismic_trace_cropped = seismic_trace[np.where((time_seismic >= start_time) & (time_seismic <= end_time))]\n",
    "Ip_trace_cropped = Ip_trace[np.where((time_seismic >= start_time) & (time_seismic <= end_time))]\n",
    "time_cropped = time_seismic[np.where((time_seismic >= start_time) & (time_seismic <= end_time))]\n",
    "\n",
    "\n",
    "# Load statistical source wavelet\n",
    "source_statistical = genfromtxt('../data/volve/statistical_source_wavelet.txt', delimiter='\t')\n",
    "dt_source = 1e-3\n",
    "plt.plot(source_statistical[:,1])\n",
    "plt.show()\n",
    "\n",
    "\n",
    "# Convolution of source with reflectivity series \n",
    "r0 = 0.5*np.diff(np.log(Ip_trace_cropped))\n",
    "r0 = np.insert(r0,0, 0)\n",
    "ss = np.convolve(r0, source_statistical[:,1], mode='same')\n",
    "ss_normalized = (ss - np.min(ss))/(np.max(ss) - np.min(ss))\n",
    "\n",
    "fig, axs = plt.subplots(1,3)\n",
    "axs[0].plot(seismic_trace_cropped, time_cropped, '--k' )\n",
    "axs[0].plot(1-ss_normalized, time_cropped, '-b' )\n",
    "axs[1].plot(Ip_trace_cropped, time_cropped)\n",
    "axs[2].plot(r0, time_cropped)\n",
    "plt.show()\n",
    "\n",
    "\n",
    "# Note to match 1-ss_normalized from impedance inversion"
   ]
  },
  {
   "cell_type": "code",
   "execution_count": null,
   "metadata": {},
   "outputs": [],
   "source": [
    "# Load stochastically generated impedance \n",
    "Ip = np.loadtxt('../data/volve/Ip_exported.txt')\n",
    "Ip_reshape = np.reshape(Ip, ((151,151,160)), order='F')"
   ]
  },
  {
   "cell_type": "code",
   "execution_count": null,
   "metadata": {
    "tags": []
   },
   "outputs": [],
   "source": [
    "# Trace by trace normalization and convolution \n",
    "ss_new = np.zeros(Ip_reshape.shape)\n",
    "Ip_normalized = np.zeros(Ip_reshape.shape)\n",
    "for i in range(Ip_reshape.shape[0]):\n",
    "    for j in range(Ip_reshape.shape[1]):\n",
    "        Ip_trace = Ip_reshape[i,j,:]\n",
    "        Ip_normalized[i,j,:] = (Ip_trace - np.min(Ip_trace))/(np.max(Ip_trace) - np.min(Ip_trace))\n",
    "        r0_trace = 0.5*np.diff(np.log(Ip_trace))\n",
    "        r0_trace = np.insert(r0_trace,0, 0)\n",
    "        ss_trace = np.convolve(r0_trace, source_statistical[:,1], mode='same')\n",
    "        ss_new[i,j,:] = (ss_trace - np.min(ss_trace))/(np.max(ss_trace) - np.min(ss_trace))"
   ]
  },
  {
   "cell_type": "code",
   "execution_count": null,
   "metadata": {},
   "outputs": [],
   "source": [
    "# Plot of results of convolution\n",
    "time_new = np.arange(0,ss_new.shape[2]*1e-3, 1e-3)\n",
    "nx = 100\n",
    "ny = 100\n",
    "\n",
    "plt.figure(num=None, figsize=(3, 8), dpi=80, facecolor='w', edgecolor='k')\n",
    "plt.plot(ss_new[nx,ny,:], time_new, '--r')\n",
    "plt.plot(Ip_normalized[nx,ny,:], time_new, '--b')\n",
    "plt.gca().invert_yaxis()"
   ]
  },
  {
   "cell_type": "code",
   "execution_count": null,
   "metadata": {},
   "outputs": [],
   "source": [
    "# Creating training, validation and test data \n",
    "\n",
    "# Validation dataset created near the area of the well\n",
    "indx_i_well_start = 20\n",
    "indx_i_well_end = 45\n",
    "indx_j_well_start = 32\n",
    "indx_j_well_end = 54\n",
    "valX = ss_new[indx_i_well_start:indx_i_well_end, indx_j_well_start:indx_j_well_end, :]\n",
    "valX = valX.reshape(-1, valX.shape[-1])\n",
    "valX = np.reshape(valX, (valX.shape[0], valX.shape[1], 1))\n",
    "x_valid, x_test = np.split(valX, 2)\n",
    "\n",
    "valIp = Ip_normalized[indx_i_well_start:indx_i_well_end, indx_j_well_start:indx_j_well_end, :]\n",
    "valIp = valIp.reshape(-1, valIp.shape[-1])\n",
    "valIp = np.reshape(valIp, (valIp.shape[0], valIp.shape[1], 1))\n",
    "y_valid, y_test = np.split(valIp, 2)\n",
    "\n",
    "# Flatten rest of indices \n",
    "ss_data_rest = ss_new[np.r_[0:(indx_i_well_start-1),(indx_i_well_end+1):ss_new.shape[0]], :, :]\n",
    "ss_data_rest = ss_data_rest[:, np.r_[0:(indx_j_well_start-1),(indx_j_well_end+1):ss_new.shape[1]],:]\n",
    "ss_data_rest = ss_data_rest.reshape(-1, ss_data_rest.shape[-1])\n",
    "\n",
    "Ip_data_rest = Ip_normalized[np.r_[0:(indx_i_well_start-1),(indx_i_well_end+1):Ip_normalized.shape[0]], :, :]\n",
    "Ip_data_rest = Ip_data_rest[:, np.r_[0:(indx_j_well_start-1),(indx_j_well_end+1):Ip_normalized.shape[1]],:]\n",
    "Ip_data_rest = Ip_data_rest.reshape(-1, Ip_data_rest.shape[-1])\n",
    "\n",
    "# Selecting randomly training dataset\n",
    "howMany = 750 # Seismic data considered out of all data points \n",
    "np.random.seed(9) # For replication of results\n",
    "indxRand = [randint(0,ss_data_rest.shape[0]-1) for p in range(0,howMany)]\n",
    "\n",
    "trainX = (ss_data_rest[indxRand, :])\n",
    "trainX = np.reshape(trainX, (trainX.shape[0], trainX.shape[1], 1))\n",
    "\n",
    "trainIp = (Ip_data_rest[indxRand, :])\n",
    "trainIp = np.reshape(trainIp, (trainIp.shape[0], trainIp.shape[1], 1))\n",
    "\n",
    "sampleNumber = 100\n",
    "time = np.arange(0, trainX.shape[1]*1e-3, 1e-3)\n",
    "fig, ax1 = plt.subplots()\n",
    "ax1.plot(time, trainX[sampleNumber,:,0], 'b-')\n",
    "ax1.set_xlabel('time (s)')\n",
    "# Make the y-axis label, ticks and tick labels match the line color.\n",
    "ax1.set_ylabel('Seismic Amplitude', color='b')\n",
    "ax1.tick_params('y', colors='b')\n",
    "\n",
    "ax2 = ax1.twinx()\n",
    "ax2.plot(time, trainIp[sampleNumber,:,0], 'r-')\n",
    "ax2.set_ylabel('Impedance', color='r')\n",
    "ax2.tick_params('y', colors='r')\n",
    "\n",
    "fig.tight_layout()\n",
    "plt.show()"
   ]
  },
  {
   "cell_type": "code",
   "execution_count": null,
   "metadata": {},
   "outputs": [],
   "source": []
  }
 ],
 "metadata": {
  "kernelspec": {
   "display_name": "Python 3",
   "language": "python",
   "name": "python3"
  },
  "language_info": {
   "codemirror_mode": {
    "name": "ipython",
    "version": 3
   },
   "file_extension": ".py",
   "mimetype": "text/x-python",
   "name": "python",
   "nbconvert_exporter": "python",
   "pygments_lexer": "ipython3",
   "version": "3.8.8"
  }
 },
 "nbformat": 4,
 "nbformat_minor": 4
}
